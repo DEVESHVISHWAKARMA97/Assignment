{
  "nbformat": 4,
  "nbformat_minor": 0,
  "metadata": {
    "colab": {
      "name": "Numpy_Assignment.ipynb",
      "provenance": []
    },
    "kernelspec": {
      "name": "python3",
      "display_name": "Python 3"
    }
  },
  "cells": [
    {
      "cell_type": "markdown",
      "metadata": {
        "id": "jPo-jmwG6Nkl"
      },
      "source": [
        "# **1.**\n"
      ]
    },
    {
      "cell_type": "code",
      "metadata": {
        "id": "Rxz34FOZ58AI"
      },
      "source": [
        "import numpy as np"
      ],
      "execution_count": 1,
      "outputs": []
    },
    {
      "cell_type": "code",
      "metadata": {
        "id": "m5ZA6CIz6CUh"
      },
      "source": [
        "vector=np.array([2,3,4,7,2,6,2,1])"
      ],
      "execution_count": 2,
      "outputs": []
    },
    {
      "cell_type": "code",
      "metadata": {
        "id": "a4vEjW7j6bqC",
        "outputId": "f6e9012d-d68b-4123-f54a-078007c7952a",
        "colab": {
          "base_uri": "https://localhost:8080/",
          "height": 152
        }
      },
      "source": [
        "vender=np.reshape([x**N for x in vector for N in range(len(vector)-1,-1,-1)],(len(vector),-1))\n",
        "vender"
      ],
      "execution_count": 6,
      "outputs": [
        {
          "output_type": "execute_result",
          "data": {
            "text/plain": [
              "array([[   128,     64,     32,     16,      8,      4,      2,      1],\n",
              "       [  2187,    729,    243,     81,     27,      9,      3,      1],\n",
              "       [ 16384,   4096,   1024,    256,     64,     16,      4,      1],\n",
              "       [823543, 117649,  16807,   2401,    343,     49,      7,      1],\n",
              "       [   128,     64,     32,     16,      8,      4,      2,      1],\n",
              "       [279936,  46656,   7776,   1296,    216,     36,      6,      1],\n",
              "       [   128,     64,     32,     16,      8,      4,      2,      1],\n",
              "       [     1,      1,      1,      1,      1,      1,      1,      1]])"
            ]
          },
          "metadata": {
            "tags": []
          },
          "execution_count": 6
        }
      ]
    },
    {
      "cell_type": "markdown",
      "metadata": {
        "id": "aXqzY-8V690d"
      },
      "source": [
        "# **2.**\n"
      ]
    },
    {
      "cell_type": "code",
      "metadata": {
        "id": "vkbi2YUj7B1F"
      },
      "source": [
        "sequence=[3, 5, 7, 2, 8, 10, 11, 65, 72, 81, 99, 100, 150]"
      ],
      "execution_count": 7,
      "outputs": []
    },
    {
      "cell_type": "code",
      "metadata": {
        "id": "KSjnZEiY7O4Q"
      },
      "source": [
        "window = 3"
      ],
      "execution_count": 8,
      "outputs": []
    },
    {
      "cell_type": "code",
      "metadata": {
        "id": "fXtxtvMM7QWZ"
      },
      "source": [
        "def moving_average(sequence,window):\n",
        "  for i in range(len(sequence)-window+1):\n",
        "    print(sum(sequence[i:i+window]))"
      ],
      "execution_count": 13,
      "outputs": []
    },
    {
      "cell_type": "code",
      "metadata": {
        "id": "5iIdiSnR7tCc",
        "outputId": "fb490973-120f-4cb1-bd02-1fa7dab197bc",
        "colab": {
          "base_uri": "https://localhost:8080/",
          "height": 203
        }
      },
      "source": [
        "moving_average(sequence,window)"
      ],
      "execution_count": 14,
      "outputs": [
        {
          "output_type": "stream",
          "text": [
            "15\n",
            "14\n",
            "17\n",
            "20\n",
            "29\n",
            "86\n",
            "148\n",
            "218\n",
            "252\n",
            "280\n",
            "349\n"
          ],
          "name": "stdout"
        }
      ]
    }
  ]
}