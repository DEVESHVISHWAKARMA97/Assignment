{
  "nbformat": 4,
  "nbformat_minor": 0,
  "metadata": {
    "colab": {
      "name": "Python Assignment 2.ipynb",
      "provenance": []
    },
    "kernelspec": {
      "name": "python3",
      "display_name": "Python 3"
    }
  },
  "cells": [
    {
      "cell_type": "markdown",
      "metadata": {
        "id": "A5rwTlwP-EGV",
        "colab_type": "text"
      },
      "source": [
        "**Problem 1**\n"
      ]
    },
    {
      "cell_type": "code",
      "metadata": {
        "id": "jSm22R7nS4uo",
        "colab_type": "code",
        "colab": {
          "base_uri": "https://localhost:8080/",
          "height": 321
        },
        "outputId": "4854bb02-5da0-46a7-f959-8c9bcb092474"
      },
      "source": [
        "for i in range(5):\n",
        "  for j in range(i+1):\n",
        "    print('*', end=' ')\n",
        "  print('\\n')\n",
        "for i in range(4,0,-1):\n",
        "  for j in range(i):\n",
        "    print('*',end=' ')\n",
        "  print('\\n')"
      ],
      "execution_count": 11,
      "outputs": [
        {
          "output_type": "stream",
          "text": [
            "* \n",
            "\n",
            "* * \n",
            "\n",
            "* * * \n",
            "\n",
            "* * * * \n",
            "\n",
            "* * * * * \n",
            "\n",
            "* * * * \n",
            "\n",
            "* * * \n",
            "\n",
            "* * \n",
            "\n",
            "* \n",
            "\n"
          ],
          "name": "stdout"
        }
      ]
    },
    {
      "cell_type": "markdown",
      "metadata": {
        "id": "vJI3sqFa96-W",
        "colab_type": "text"
      },
      "source": [
        "**Problem 2**"
      ]
    },
    {
      "cell_type": "code",
      "metadata": {
        "id": "yw9DI1Ak9ZGh",
        "colab_type": "code",
        "colab": {
          "base_uri": "https://localhost:8080/",
          "height": 51
        },
        "outputId": "fb8d70c0-6803-4c9d-ba5d-a994f824b528"
      },
      "source": [
        "x=input('Enter a word : ',)\n",
        "print(x[::-1])\n"
      ],
      "execution_count": 15,
      "outputs": [
        {
          "output_type": "stream",
          "text": [
            "Enter a word : Apocalypse\n",
            "espylacopA\n"
          ],
          "name": "stdout"
        }
      ]
    }
  ]
}